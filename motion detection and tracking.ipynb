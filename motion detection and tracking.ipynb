{
 "cells": [
  {
   "cell_type": "code",
   "execution_count": 1,
   "metadata": {},
   "outputs": [
    {
     "name": "stdout",
     "output_type": "stream",
     "text": [
      "(768, 1364, 3)\n"
     ]
    },
    {
     "ename": "KeyboardInterrupt",
     "evalue": "",
     "output_type": "error",
     "traceback": [
      "\u001b[1;31m---------------------------------------------------------------------------\u001b[0m",
      "\u001b[1;31mKeyboardInterrupt\u001b[0m                         Traceback (most recent call last)",
      "Cell \u001b[1;32mIn[1], line 77\u001b[0m\n\u001b[0;32m     71\u001b[0m     frame1 \u001b[38;5;241m=\u001b[39m frame2\n\u001b[0;32m     73\u001b[0m     ret, frame2 \u001b[38;5;241m=\u001b[39m cap\u001b[38;5;241m.\u001b[39mread()\u001b[38;5;66;03m#read\u001b[39;00m\n\u001b[1;32m---> 77\u001b[0m     \u001b[38;5;28;01mif\u001b[39;00m \u001b[43mcv2\u001b[49m\u001b[38;5;241;43m.\u001b[39;49m\u001b[43mwaitKey\u001b[49m\u001b[43m(\u001b[49m\u001b[38;5;241;43m40\u001b[39;49m\u001b[43m)\u001b[49m \u001b[38;5;241m==\u001b[39m \u001b[38;5;241m27\u001b[39m:\n\u001b[0;32m     79\u001b[0m         \u001b[38;5;28;01mbreak\u001b[39;00m     \n\u001b[0;32m     83\u001b[0m cv2\u001b[38;5;241m.\u001b[39mdestroyAllWindows()\u001b[38;5;66;03m#close window\u001b[39;00m\n",
      "\u001b[1;31mKeyboardInterrupt\u001b[0m: "
     ]
    }
   ],
   "source": [
    "import cv2\n",
    "\n",
    "import numpy as np\n",
    "\n",
    "\n",
    "\n",
    "cap = cv2.VideoCapture(r'c:\\Users\\RTX\\Videos\\Screen Recordings\\Screen Recording 2025-01-04 130535.mp4')\n",
    "\n",
    "frame_width = int( cap.get(cv2.CAP_PROP_FRAME_WIDTH))\n",
    "\n",
    "\n",
    "\n",
    "frame_height =int( cap.get( cv2.CAP_PROP_FRAME_HEIGHT))\n",
    "\n",
    "\n",
    "\n",
    "fourcc = cv2.VideoWriter_fourcc('X','V','I','D')\n",
    "\n",
    "\n",
    "\n",
    "out = cv2.VideoWriter(\"output.avi\", fourcc, 5.0, (1280,720))\n",
    "\n",
    "\n",
    "\n",
    "ret, frame1 = cap.read()# 1st frame\n",
    "\n",
    "ret, frame2 = cap.read() #2nd frame\n",
    "\n",
    "print(frame1.shape)\n",
    "\n",
    "while cap.isOpened():\n",
    "\n",
    "    diff = cv2.absdiff(frame1, frame2)        \n",
    "\n",
    "    gray = cv2.cvtColor(diff, cv2.COLOR_BGR2GRAY)        \n",
    "\n",
    "    blur = cv2.GaussianBlur(gray, (5,5), 0)        \n",
    "\n",
    "    _, thresh = cv2.threshold(blur, 20, 255, cv2.THRESH_BINARY)        \n",
    "\n",
    "    dilated = cv2.dilate(thresh, None, iterations=3)        \n",
    "\n",
    "    contours, _ = cv2.findContours(dilated, cv2.RETR_TREE, cv2.CHAIN_APPROX_SIMPLE)        \n",
    "\n",
    "\n",
    "\n",
    "    for contour in contours:        \n",
    "\n",
    "        x, y, w, h =  cv2.boundingRect(contour)             \n",
    "\n",
    "\n",
    "\n",
    "        if cv2.contourArea(contour) < 900:              \n",
    "\n",
    "         continue                    \n",
    "\n",
    "        cv2.rectangle(frame1, (x, y), (x+w, y+h), (0, 255, 0), 2)              \n",
    "\n",
    "        cv2.putText(frame1, \"Status: {}\".format('Movement'), (10, 20),cv2.FONT_HERSHEY_SIMPLEX,1, (0, 0, 255), 3)\n",
    "\n",
    "    #cv2.drawContours(frame1, contours, -1, (0, 255, 0), 2)\n",
    "\n",
    "\n",
    "\n",
    "    image = cv2.resize(frame1, (1280,720))\n",
    "\n",
    "    out.write(image)\n",
    "\n",
    "    cv2.imshow(\"feed\", frame1)\n",
    "\n",
    "    frame1 = frame2\n",
    "\n",
    "    ret, frame2 = cap.read()#read\n",
    "\n",
    "\n",
    "\n",
    "    if cv2.waitKey(40) == 27:\n",
    "\n",
    "        break     \n",
    "\n",
    "\n",
    "\n",
    "cv2.destroyAllWindows()#close window\n",
    "\n",
    "cap.release()#close camera\n",
    "\n",
    "out.release()#close when write"
   ]
  }
 ],
 "metadata": {
  "kernelspec": {
   "display_name": "Python 3",
   "language": "python",
   "name": "python3"
  },
  "language_info": {
   "codemirror_mode": {
    "name": "ipython",
    "version": 3
   },
   "file_extension": ".py",
   "mimetype": "text/x-python",
   "name": "python",
   "nbconvert_exporter": "python",
   "pygments_lexer": "ipython3",
   "version": "3.12.0"
  }
 },
 "nbformat": 4,
 "nbformat_minor": 2
}
